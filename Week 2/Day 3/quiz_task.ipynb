{
 "cells": [
  {
   "cell_type": "code",
   "execution_count": 1,
   "metadata": {},
   "outputs": [],
   "source": [
    "from __future__ import print_function\n",
    "\n",
    "import os\n",
    "import numpy as np\n",
    "import pandas as pd\n",
    "import tarfile\n",
    "import urllib.request\n",
    "import zipfile\n",
    "from glob import glob\n"
   ]
  },
  {
   "cell_type": "code",
   "execution_count": null,
   "metadata": {},
   "outputs": [],
   "source": [
    "def flights():\n",
    "    flights_raw = os.path.join(data_dir, 'nycflights.tar.gz')\n",
    "    flightdir = os.path.join(data_dir, 'nycflights')\n",
    "    jsondir = os.path.join(data_dir, 'flightjson')\n",
    "\n",
    "    if not os.path.exists(data_dir):\n",
    "        os.mkdir(data_dir)\n",
    "\n",
    "    if not os.path.exists(flights_raw):\n",
    "        print(\"- Downloading NYC Flights dataset... \", end='', flush=True)\n",
    "        url = \"https://storage.googleapis.com/dask-tutorial-data/nycflights.tar.gz\"\n",
    "        urllib.request.urlretrieve(url, flights_raw)\n",
    "        print(\"done\", flush=True)\n",
    "\n",
    "    if not os.path.exists(flightdir):\n",
    "        print(\"- Extracting flight data... \", end='', flush=True)\n",
    "        tar_path = os.path.join('data', 'nycflights.tar.gz')\n",
    "        with tarfile.open(tar_path, mode='r:gz') as flights:\n",
    "            flights.extractall('data/')\n",
    "        print(\"done\", flush=True)\n",
    "\n",
    "    if not os.path.exists(jsondir):\n",
    "        print(\"- Creating json data... \", end='', flush=True)\n",
    "        os.mkdir(jsondir)\n",
    "        for path in glob(os.path.join('data', 'nycflights', '*.csv')):\n",
    "            prefix = os.path.splitext(os.path.basename(path))[0]\n",
    "            # Just take the first 10000 rows for the demo\n",
    "            df = pd.read_csv(path).iloc[:10000]\n",
    "            df.to_json(os.path.join('data', 'flightjson', prefix + '.json'),\n",
    "                       orient='records', lines=True)\n",
    "        print(\"done\", flush=True)\n",
    "\n",
    "    print(\"** Finished! **\")\n"
   ]
  },
  {
   "cell_type": "code",
   "execution_count": null,
   "metadata": {},
   "outputs": [],
   "source": [
    "\n",
    "data_dir = 'data'"
   ]
  },
  {
   "cell_type": "code",
   "execution_count": null,
   "metadata": {},
   "outputs": [],
   "source": [
    "print(\"-------------------------\")\n",
    "\n",
    "flights()\n",
    "random_array()\n",
    "weather()\n",
    "\n",
    "print('Finished!')"
   ]
  }
 ],
 "metadata": {
  "kernelspec": {
   "display_name": "Python 3",
   "language": "python",
   "name": "python3"
  },
  "language_info": {
   "codemirror_mode": {
    "name": "ipython",
    "version": 3
   },
   "file_extension": ".py",
   "mimetype": "text/x-python",
   "name": "python",
   "nbconvert_exporter": "python",
   "pygments_lexer": "ipython3",
   "version": "3.7.1"
  }
 },
 "nbformat": 4,
 "nbformat_minor": 2
}
